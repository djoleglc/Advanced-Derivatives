{
 "cells": [
  {
   "cell_type": "code",
   "execution_count": 50,
   "id": "5e6cd632",
   "metadata": {},
   "outputs": [],
   "source": [
    "import numpy as np \n",
    "import matplotlib.pyplot as plt \n",
    "import math \n",
    "\n",
    "s = 100\n",
    "T = 1\n",
    "t = [0.25, 0.5, 0.75, 1]\n",
    "k = 98\n",
    "r = 0\n",
    "q = 0.02\n",
    "\n",
    "\n",
    "#constant volatility \n",
    "#np.random.seed(10)\n",
    "sigma = 0.23\n",
    "#in this case we can use a geometrical brownian motion to simulate the price at the fourth expiration \n",
    "delta = 0.25\n",
    "\n",
    "\n",
    "def simulate_price(s, n):\n",
    "    pmat = np.empty((n,len(t)))\n",
    "    for ind, j in enumerate(t):\n",
    "        if ind == 0:\n",
    "            bm = np.random.standard_normal(size = n)\n",
    "            price = s*np.exp( delta*(r - q - 0.5*sigma**2 ) + sigma*np.sqrt(delta)*bm)\n",
    "            pmat[:,ind] = np.squeeze(price)\n",
    "        else:\n",
    "            bm = np.random.standard_normal(size = n)\n",
    "            pmat[:, ind ] = np.squeeze(np.exp( delta*(r - q - 0.5*sigma**2 ) + sigma*np.sqrt(delta)*bm))\n",
    "            \n",
    "    return pmat.cumprod(axis = 1)\n",
    "\n"
   ]
  },
  {
   "cell_type": "code",
   "execution_count": 53,
   "id": "933c9761",
   "metadata": {},
   "outputs": [
    {
     "name": "stdout",
     "output_type": "stream",
     "text": [
      "6.976547542782333 0.03224766783412454\n"
     ]
    }
   ],
   "source": [
    "\n",
    "def get_payoff(prices):\n",
    "    payoff = np.maximum(np.mean(prices, axis = 1).reshape(prices.shape[0],1) - k,0)\n",
    "    return payoff \n",
    "\n",
    "\n",
    "def regression(c, s, a, payoff):\n",
    "    #build regression matrix \n",
    "    if np.all( s == a ):                                    #if they are the same, a and s, just take s\n",
    "         x = np.c_[np.ones(c.shape[0]), s, s**2, s**3]\n",
    "    else: \n",
    "         x = np.c_[np.ones(c.shape[0]), s, s**2, s**3, a,a**2, a**3]\n",
    "            \n",
    "    c = c.reshape(c.shape[0], 1)  \n",
    "    \n",
    "    beta = np.linalg.solve(x.T @ x, x.T @ c)\n",
    "    fitted = x @ beta                          #estimated continuation value\n",
    "    exercise_today = (payoff >= fitted)        #I exercise today when the payoff is larger than the continuation value \n",
    "    return exercise_today\n",
    "\n",
    "\n",
    "def continuation(j,cf):\n",
    "    #calculate the continuation value \n",
    "    #index to keep to get the continuation value (future cash flow)\n",
    "    cf_ = cf[:,j+1:]\n",
    "    discount = np.exp(  -delta* (np.arange(cf_.shape[1])+1) * r)\n",
    "    return (cf_* discount).sum(axis = 1) \n",
    "\n",
    "\n",
    "\n",
    "def calculate_price(s,t, n):\n",
    "    cash_flow = np.zeros((n,len(t)))\n",
    "    prices = simulate_price(s, n)\n",
    "    \n",
    "    for j in reversed(range(0,len(t))):\n",
    "        \n",
    "        if j == len(t)-1:                     #if terminal time just fill the cash flow matrix \n",
    "            p_ = prices[:,0:j+1]\n",
    "            payoff = get_payoff(p_)\n",
    "            cash_flow[:,j] = np.squeeze(payoff)\n",
    "            \n",
    "            \n",
    "        else:\n",
    "            \n",
    "            p_ = prices[:,0:j+1]                  #restrict the price matrix\n",
    "            payoff = get_payoff(p_)               #get the payoff calculated as mean over previous prices\n",
    "            index = np.squeeze(payoff>0)  \n",
    "                                                   #where is the payoff greater than 0? where do I have to take a decision ? \n",
    "            s = prices[index,j]                                           #s to use in the regression\n",
    "            a = prices[index, 0:j+1].mean(axis = 1) \n",
    "           \n",
    "            cont = continuation(j, cash_flow[index])   \n",
    "            decision = regression(cont, s, a, payoff[index])                         #when I am better off by get money today \n",
    "            \n",
    "            cash_flow[index,j] = np.squeeze(payoff[index]*(decision))                #update the cashflow matrix\n",
    "            cash_flow[index, j+1:] = cash_flow[index, j+1:] * (~decision)    #update cashflow matrix \n",
    "     \n",
    "    discount = np.exp(  -delta* (np.arange(cash_flow.shape[1])+1) * r)\n",
    "\n",
    "    price_vec = (discount * cash_flow).sum(axis = 1)\n",
    "    return  price_vec.mean(), price_vec.std()/np.sqrt(n)\n",
    "\n",
    "\n",
    "price, std = calculate_price(s, t, 100000)\n",
    "print(price, std)\n",
    "        "
   ]
  },
  {
   "cell_type": "code",
   "execution_count": null,
   "id": "65bc0b72",
   "metadata": {},
   "outputs": [],
   "source": []
  },
  {
   "cell_type": "code",
   "execution_count": null,
   "id": "ef228044",
   "metadata": {},
   "outputs": [],
   "source": []
  },
  {
   "cell_type": "code",
   "execution_count": null,
   "id": "068f37ea",
   "metadata": {},
   "outputs": [],
   "source": []
  },
  {
   "cell_type": "code",
   "execution_count": null,
   "id": "712a183e",
   "metadata": {},
   "outputs": [],
   "source": []
  },
  {
   "cell_type": "code",
   "execution_count": null,
   "id": "ddb7f102",
   "metadata": {},
   "outputs": [],
   "source": []
  }
 ],
 "metadata": {
  "kernelspec": {
   "display_name": "Python 3 (ipykernel)",
   "language": "python",
   "name": "python3"
  },
  "language_info": {
   "codemirror_mode": {
    "name": "ipython",
    "version": 3
   },
   "file_extension": ".py",
   "mimetype": "text/x-python",
   "name": "python",
   "nbconvert_exporter": "python",
   "pygments_lexer": "ipython3",
   "version": "3.9.7"
  }
 },
 "nbformat": 4,
 "nbformat_minor": 5
}
