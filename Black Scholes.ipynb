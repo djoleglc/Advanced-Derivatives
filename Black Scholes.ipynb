{
 "cells": [
  {
   "cell_type": "code",
   "execution_count": 100,
   "id": "b17558b2",
   "metadata": {},
   "outputs": [
    {
     "data": {
      "text/plain": [
       "27.821735259848868"
      ]
     },
     "execution_count": 100,
     "metadata": {},
     "output_type": "execute_result"
    }
   ],
   "source": [
    "import numpy as np \n",
    "import scipy\n",
    "import math \n",
    "\n",
    "#k strike \n",
    "#q dividend rate \n",
    "#sigma is the standard deviation \n",
    "\n",
    "def black_scholes_call(t, T, s, k, r, q, sigma):\n",
    "    d1 = ( np.log(s/k) + (r - q + 0.5*sigma**2)*(T-t) )/(sigma * np.sqrt(T-t))\n",
    "    d2 = d1 - sigma * np.sqrt(T-t)\n",
    "    price = s * np.exp(-q *(T-t))*scipy.stats.norm.cdf(d1) - k*np.exp(-r *(T-t))*scipy.stats.norm.cdf(d2)\n",
    "    return price\n",
    "\n",
    "\n",
    "black_scholes(0,1,100,50,0.05,0.5,1)"
   ]
  },
  {
   "cell_type": "code",
   "execution_count": 5,
   "id": "6a0294ac",
   "metadata": {
    "scrolled": true
   },
   "outputs": [
    {
     "ename": "SyntaxError",
     "evalue": "invalid syntax (Temp/ipykernel_13788/569787294.py, line 18)",
     "output_type": "error",
     "traceback": [
      "\u001b[1;36m  File \u001b[1;32m\"C:\\Users\\giova\\AppData\\Local\\Temp/ipykernel_13788/569787294.py\"\u001b[1;36m, line \u001b[1;32m18\u001b[0m\n\u001b[1;33m    def simulation_all_path(function, t, T, s, r, q, sigma, n, n_step)\u001b[0m\n\u001b[1;37m                                                                      ^\u001b[0m\n\u001b[1;31mSyntaxError\u001b[0m\u001b[1;31m:\u001b[0m invalid syntax\n"
     ]
    }
   ],
   "source": [
    "def call(s, k):\n",
    "    return (s-k > 0)*(s-k)\n",
    "\n",
    "#function to use Monte carlo for a simple time independent option \n",
    "#q is the dividend rate  \n",
    "\n",
    "def simulation_option_final(function, t, T, s, r, q, sigma, n):\n",
    "    tau = T-t\n",
    "    x = np.random.normal(0,1,n)\n",
    "    s_T = s*np.exp((r - q -0.5*sigma**2)*tau + sigma*x*np.sqrt(tau))\n",
    "    fun = function(s_T)\n",
    "    \n",
    "    return np.exp(-r*tau)*fun.mean()\n",
    "\n",
    "simulation_option(lambda x: call(x,50),0,1,100,0.05,0.5,1, 10000000)\n",
    "\n"
   ]
  },
  {
   "cell_type": "code",
   "execution_count": 26,
   "id": "6590d3cd",
   "metadata": {},
   "outputs": [
    {
     "data": {
      "text/plain": [
       "(27.821735259952764, 1.6723999333660172e-07)"
      ]
     },
     "execution_count": 26,
     "metadata": {},
     "output_type": "execute_result"
    }
   ],
   "source": [
    "#test the integral function\n",
    "import numpy as np\n",
    "import math\n",
    "from scipy import integrate\n",
    "    \n",
    "f = lambda x: (x>0)*x\n",
    "def gbm(x, t, T, s, k, r, q, sigma):\n",
    "    tau = T-t\n",
    "    s_T = s*np.exp((r - q -0.5*sigma**2)*tau + sigma*x*np.sqrt(tau)) - k\n",
    "    return np.exp( -r*(T-t)) * f( s_T) * np.exp(-0.5*x**2)*(1/np.sqrt(2*math.pi))\n",
    "\n",
    "g = lambda x: gbm(x, 0,1,100,50,0.05,0.5,1)\n",
    "\n",
    "\n",
    "integrate.quad(g, -10, 10)"
   ]
  },
  {
   "cell_type": "code",
   "execution_count": null,
   "id": "9862676d",
   "metadata": {},
   "outputs": [],
   "source": []
  }
 ],
 "metadata": {
  "kernelspec": {
   "display_name": "Python 3 (ipykernel)",
   "language": "python",
   "name": "python3"
  },
  "language_info": {
   "codemirror_mode": {
    "name": "ipython",
    "version": 3
   },
   "file_extension": ".py",
   "mimetype": "text/x-python",
   "name": "python",
   "nbconvert_exporter": "python",
   "pygments_lexer": "ipython3",
   "version": "3.9.7"
  }
 },
 "nbformat": 4,
 "nbformat_minor": 5
}
