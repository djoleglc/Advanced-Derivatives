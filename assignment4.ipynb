{
 "cells": [
  {
   "cell_type": "code",
   "execution_count": 1,
   "id": "0f9a8026",
   "metadata": {},
   "outputs": [],
   "source": [
    "import pandas as pd\n",
    "import numpy as np \n",
    "import scipy\n",
    "import math \n",
    "from scipy import stats\n",
    "import matplotlib.pyplot as plt\n",
    "from scipy.stats import multivariate_normal \n",
    "\n",
    "iv = pd.read_excel(\"Impvols_SPX_AMZN.xlsx\", header = 1)\n",
    "spx_strikes = iv.spx_strikes.dropna().to_numpy()\n",
    "am_strikes = iv.amzn_strikes.dropna().to_numpy()\n",
    "am_iv = iv[\"amzn implied vols\"].dropna().to_numpy()\n",
    "spx_iv = iv[\"spx implied vols\"].dropna().to_numpy()"
   ]
  },
  {
   "cell_type": "code",
   "execution_count": 2,
   "id": "4a18b143",
   "metadata": {},
   "outputs": [],
   "source": [
    "def black_scholes_call(t, T, s, k, r, sigma, q = 0):\n",
    "    d1 = ( np.log(s/k) + (r - q + 0.5*sigma**2)*(T-t) )/(sigma * np.sqrt(T-t))\n",
    "    d2 = d1 - sigma * np.sqrt(T-t)\n",
    "    price = s * np.exp(-q *(T-t))*scipy.stats.norm.cdf(d1) - k*np.exp(-r *(T-t))*scipy.stats.norm.cdf(d2)\n",
    "    return price\n",
    "\n",
    "t = 0\n",
    "r = 2.4/100\n",
    "T = 108/365\n",
    "am_q = 1.9/100\n",
    "spx_q = 1.8/100\n",
    "am_s0 = 1971\n",
    "spx_s0 = 2921\n",
    "\n",
    "#undiscounted price \n",
    "am_price = np.exp(r*T) * black_scholes_call(t, T, am_s0, am_strikes, r, am_iv, am_q)\n",
    "spx_price = np.exp(r*T) * black_scholes_call(t, T, spx_s0, spx_strikes, r, spx_iv, spx_q)"
   ]
  },
  {
   "cell_type": "code",
   "execution_count": 14,
   "id": "fe92f173",
   "metadata": {},
   "outputs": [
    {
     "name": "stdout",
     "output_type": "stream",
     "text": [
      "0.057632871818947086\n"
     ]
    }
   ],
   "source": [
    "np.random.seed(100)\n",
    "\n",
    "def implied_cdf(strikes, call_price):\n",
    "    c1, k1 = call_price[1:], strikes[1:]\n",
    "    c2, k2 = call_price[0:-1], strikes[0:-1]\n",
    "    return 1 + (c1 - c2)/(k1 - k2)    #this is the cdf calculated in k1 \n",
    "\n",
    "#therefore we can easily connect each element of the cdf with the corresponding k\n",
    "#in fact the first element of the cdf, is the cdf calculated in the first element of the strike array \n",
    "\n",
    "am_cdf = implied_cdf(am_strikes, am_price)\n",
    "spx_cdf = implied_cdf(spx_strikes, spx_price)\n",
    "\n",
    "def get_inverse(strike, cdf, level):\n",
    "    index = np.argmin(np.power(cdf - level, 2))\n",
    "    return strike[index]\n",
    "\n",
    "rho = 0.5\n",
    "n_simu = 10000\n",
    "simu = np.random.multivariate_normal([0,0], np.array([[1,0.5], [0.5, 1]]),  n_simu)    \n",
    "simu_1, simu_2 = simu[:,0], simu[:,1]\n",
    "\n",
    "q1, q2 = scipy.stats.norm.cdf(simu_1), scipy.stats.norm.cdf(simu_2)\n",
    "\n",
    "am_val = np.array([get_inverse(am_strikes, am_cdf, q) for q in q1])\n",
    "spx_val = np.array([get_inverse(spx_strikes, spx_cdf, q) for q in q2])\n",
    "\n",
    "payoff = (spx_val/spx_s0 - am_val/am_s0)\n",
    "payoff = (payoff>0)*payoff\n",
    "\n",
    "price = np.exp(-r*T)*np.mean(payoff)\n",
    "print(price)"
   ]
  },
  {
   "cell_type": "code",
   "execution_count": 15,
   "id": "ec9dacb0",
   "metadata": {},
   "outputs": [
    {
     "name": "stdout",
     "output_type": "stream",
     "text": [
      "0.0008872388106103867\n"
     ]
    }
   ],
   "source": [
    "#additional method from numpy \n",
    "#we first calculate the variance of each payoff then we calculate the variance of the average of payoff \n",
    "variance = np.var(np.exp(-r*T)*payoff)\n",
    "avg_variance = 1/n_simu * variance\n",
    "std = np.sqrt(avg_variance)\n",
    "print(std)"
   ]
  },
  {
   "cell_type": "code",
   "execution_count": 6,
   "id": "e9bbda61",
   "metadata": {},
   "outputs": [
    {
     "data": {
      "text/plain": [
       "0.0036101083032490976"
      ]
     },
     "execution_count": 6,
     "metadata": {},
     "output_type": "execute_result"
    }
   ],
   "source": []
  },
  {
   "cell_type": "code",
   "execution_count": null,
   "id": "4c4786c1",
   "metadata": {},
   "outputs": [],
   "source": []
  }
 ],
 "metadata": {
  "kernelspec": {
   "display_name": "Python 3 (ipykernel)",
   "language": "python",
   "name": "python3"
  },
  "language_info": {
   "codemirror_mode": {
    "name": "ipython",
    "version": 3
   },
   "file_extension": ".py",
   "mimetype": "text/x-python",
   "name": "python",
   "nbconvert_exporter": "python",
   "pygments_lexer": "ipython3",
   "version": "3.9.7"
  }
 },
 "nbformat": 4,
 "nbformat_minor": 5
}
